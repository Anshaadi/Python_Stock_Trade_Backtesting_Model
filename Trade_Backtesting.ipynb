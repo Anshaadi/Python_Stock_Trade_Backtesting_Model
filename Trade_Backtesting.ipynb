{
 "cells": [
  {
   "cell_type": "code",
   "execution_count": null,
   "metadata": {},
   "outputs": [],
   "source": [
    "data_source = r'D:\\Data\\AAPL.xlsx'\n",
    "df1.to_excel(data_source)"
   ]
  },
  {
   "cell_type": "code",
   "execution_count": null,
   "metadata": {},
   "outputs": [],
   "source": [
    "import pandas_datareader as pdr\n",
    "df = pdr.get_data_yahoo('AAPL')\n",
    "df1 = df[df['Volume']>0]\n",
    "df1.tail(10)"
   ]
  },
  {
   "cell_type": "code",
   "execution_count": null,
   "metadata": {},
   "outputs": [],
   "source": [
    "import pandas as pd\n",
    "import numpy as np\n",
    "datafile = r'D:\\Data\\AAPL.xlsx'\n",
    "df = pd.read_excel(datafile)\n",
    "df.tail(5)"
   ]
  },
  {
   "cell_type": "code",
   "execution_count": null,
   "metadata": {},
   "outputs": [],
   "source": [
    "# our strategy is if the short term moving average of the adjusted close price is higher the long term moving average of the adjusted close price, we are going to generate a buy singal; if short term moving average is lower than the long-term moving average then we are going to sell, the signal will be negative one;\n",
    "class Strategy:\n",
    "    def _init_(self):\n",
    "        self.t_name = t_name\n",
    "        self.long_win = long_win\n",
    "        self.short_win = short_win\n",
    "        self.cond = df.index > self.long_win\n",
    "        self.trade_price = df['Open']\n",
    "        self.close = df['Adj  Close']\n",
    "    \n",
    "    def smav(self):\n",
    "        self.smav = np.where(Strategy().cond,Strategy().close.rolling(window = Strategy.short_win).mean(),0)\n",
    "        return self.smav\n",
    "    \n",
    "    \n",
    "    def lmav(self):\n",
    "        self.lmav = np.where(Strategy().cond,Strategy().close.rolling(window = Strategy.long_win).mean(),0)\n",
    "        return self.lmav\n",
    "    \n",
    "    def trend_day(self):\n",
    "        self.trend_day = np.where(Strategy().smav() > Strategy().lmav(),1,\n",
    "                                 np.where(Strategy().smav() < Strategy().lmav(),-1,0))\n",
    "        return self.trend_day\n",
    "    \n",
    "    def prev_trend_day(self):\n",
    "        self.prev_trend_day = np.where(Strategy().self.cond, np.roll(Strategy().trend_day(),1),0)\n",
    "        return self.prev_trend_day\n",
    "    \n",
    "    def diff_trend_day(self):\n",
    "        self.diff_trend_day = Strategy().trend_day() + Strategy().prev_trend_day()\n",
    "        return self.diff_trend_day\n",
    "    \n",
    "    \n",
    "# Global Variables\n",
    "t_name = 'mav' # moving average crossover\n",
    "long_win = 20\n",
    "short_win = 5\n",
    "s = Strategy()\n",
    "\n",
    "df['smav'] =  s.smav()\n",
    "df['lmav'] =  s.lmav()\n",
    "df['trend_day'] = s.trend_day()\n",
    "\n",
    "df.tail(5)"
   ]
  },
  {
   "cell_type": "code",
   "execution_count": null,
   "metadata": {},
   "outputs": [],
   "source": [
    "class Signal:\n",
    "    def _init(self):\n",
    "        pass\n",
    "    def  trade_signal(self):\n",
    "        self.trade_signal = np.where(Strategy().diff_trend_day() == 0,Strategy().trend_day(),0)\n",
    "        return self.trade_signal\n",
    "    def order(self):\n",
    "        self.order = np.where(Strategy().cond, np.roll(Signal().trade_signal(),1),0)\n",
    "        return self.order\n",
    "    \n",
    "ts = Signal()\n",
    "df['trade_signal'] = ts.trade_signal()\n",
    "df['order'] = ts.order()\n",
    "\n",
    "df[85:125]\n",
    "\n"
   ]
  },
  {
   "cell_type": "code",
   "execution_count": null,
   "metadata": {},
   "outputs": [],
   "source": [
    "class Portfolio:\n",
    "    \n",
    "    def _init_(self):\n",
    "        self.lot_size_long = 1 \n",
    "        self.lot_size_short = 1\n",
    "        self.contract_size = np.where(period1,100,50)\n",
    "        self.initial_cash = 100000\n",
    "        self.long_amt = (-1)*(np.where(Signal().order()==1,self.lot_size_long*contract_size*Strategy().trade_price,0))\n",
    "        self.short_amt = (1)*(np.where(Signal().order()==(-1),self.lot_size_short*contract_size*Strategy().trade_price,0))\n",
    "    \n",
    "    def cash_delta(self):\n",
    "        self.cash_delta = Portfolio().long_amt + Porfolio().short_amt\n",
    "        return self.cash_delta\n",
    "    \n",
    "    def end_bal(self):\n",
    "        self.end_bal = Portfolio().initial_cash + Portfolio().cash_delta().cumsum()\n",
    "        return self.end_bal\n",
    "    \n",
    "    def end_pos(self):\n",
    "        self.end_pos = Signal().order().cumsum()\n",
    "        return self.end_pos\n",
    "\n",
    "p = Portfolio()\n",
    "\n",
    "df['long_amt'] = p.long_amt\n",
    "df['short_amt'] = p.short_amt\n",
    "df['cash_delta'] = p.cash_delta()\n",
    "df['end_bal'] = p.end_bal()\n",
    "df['end_pos'] = p.end_pos()\n",
    "df['pnl'] = df['end_bal'] + (Portfolio().end_pos()*Strategy().trade_price*Portfolio().contract_size) \n",
    "df.loc[100:200, ['Date','Open','smav','lmav','trade_signal','order','long_amt','short_amt','cash_delta','end_bal','end_pos']]"
   ]
  },
  {
   "cell_type": "code",
   "execution_count": null,
   "metadata": {},
   "outputs": [],
   "source": [
    "# Plot gain and lost \n",
    "import matplotlib.pyplot as plt\n",
    "%matplotlib inline\n",
    "\n",
    "df1 = df.set_index('Date')\n",
    "print_pnl = df1['pnl'].plot()\n",
    "plt.show(print_pnl)"
   ]
  }
 ],
 "metadata": {
  "kernelspec": {
   "display_name": "Python 3",
   "language": "python",
   "name": "python3"
  },
  "language_info": {
   "codemirror_mode": {
    "name": "ipython",
    "version": 3
   },
   "file_extension": ".py",
   "mimetype": "text/x-python",
   "name": "python",
   "nbconvert_exporter": "python",
   "pygments_lexer": "ipython3",
   "version": "3.7.3"
  }
 },
 "nbformat": 4,
 "nbformat_minor": 2
}
